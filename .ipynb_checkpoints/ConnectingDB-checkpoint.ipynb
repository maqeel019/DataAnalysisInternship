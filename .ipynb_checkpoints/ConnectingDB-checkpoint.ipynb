{
 "cells": [
  {
   "cell_type": "code",
   "execution_count": 2,
   "id": "1cbe8e2f-b8cd-4da4-a5a2-34e8e2b00c68",
   "metadata": {},
   "outputs": [],
   "source": [
    "import pandas as pd\n",
    "import mysql.connector\n",
    "from mysql.connector import Error"
   ]
  },
  {
   "cell_type": "code",
   "execution_count": 24,
   "id": "30d80719-abe8-453f-9f84-fb1c3fb98c51",
   "metadata": {},
   "outputs": [],
   "source": [
    "excel_file = r'C:\\Users\\Hp\\Python\\Data\\DataAnalysisIntern\\menu_items.csv'\n",
    "df = pd.read_csv(excel_file)"
   ]
  },
  {
   "cell_type": "code",
   "execution_count": 25,
   "id": "83c33c8b-1430-4b04-8520-8e97b5e54908",
   "metadata": {},
   "outputs": [],
   "source": [
    "try:\n",
    "    connection = mysql.connector.connect(\n",
    "        host='localhost',\n",
    "        database='mysqlinternship',\n",
    "        user='root',\n",
    "        password=''\n",
    "    )\n",
    "except Error as e:\n",
    "    print(\"Error while connecting to MySQL\", e)\n"
   ]
  },
  {
   "cell_type": "code",
   "execution_count": 29,
   "id": "6eea91c1-780c-4864-9aae-db2ce9e426c8",
   "metadata": {},
   "outputs": [],
   "source": [
    "cursor = connection.cursor()\n",
    "for index, row in df.iterrows():\n",
    "    sql = \"INSERT INTO Menu_Details (MenuItem, MenuName, MenuCatagory, MenuPrice) VALUES (%s, %s, %s, %s)\"\n",
    "    values = (row['menu_item_id'], row['item_name'], row['category'], row['price'])\n",
    "    cursor.execute(sql, values)\n",
    "connection.commit()"
   ]
  },
  {
   "cell_type": "code",
   "execution_count": 31,
   "id": "f6045e40-2076-4132-825c-f5723fbd30b7",
   "metadata": {},
   "outputs": [],
   "source": [
    "if connection.is_connected():\n",
    "    cursor.close()\n",
    "    connection.close()\n",
    "    print(\"MySQL connection is closed\")\n"
   ]
  },
  {
   "cell_type": "code",
   "execution_count": 32,
   "id": "f6119cd7-394a-41d6-8e39-2e532991d852",
   "metadata": {},
   "outputs": [
    {
     "data": {
      "text/plain": [
       "<module 'pandas' from 'C:\\\\Users\\\\Hp\\\\AppData\\\\Local\\\\Programs\\\\Python\\\\Python311\\\\Lib\\\\site-packages\\\\pandas\\\\__init__.py'>"
      ]
     },
     "execution_count": 32,
     "metadata": {},
     "output_type": "execute_result"
    }
   ],
   "source": []
  }
 ],
 "metadata": {
  "kernelspec": {
   "display_name": "Python 3 (ipykernel)",
   "language": "python",
   "name": "python3"
  },
  "language_info": {
   "codemirror_mode": {
    "name": "ipython",
    "version": 3
   },
   "file_extension": ".py",
   "mimetype": "text/x-python",
   "name": "python",
   "nbconvert_exporter": "python",
   "pygments_lexer": "ipython3",
   "version": "3.11.5"
  }
 },
 "nbformat": 4,
 "nbformat_minor": 5
}
