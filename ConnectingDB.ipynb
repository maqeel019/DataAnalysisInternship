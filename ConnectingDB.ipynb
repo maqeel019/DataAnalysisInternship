{
 "cells": [
  {
   "cell_type": "code",
   "execution_count": 2,
   "id": "1cbe8e2f-b8cd-4da4-a5a2-34e8e2b00c68",
   "metadata": {},
   "outputs": [],
   "source": [
    "import pandas as pd\n",
    "import mysql.connector\n",
    "from mysql.connector import Error"
   ]
  },
  {
   "cell_type": "code",
   "execution_count": 9,
   "id": "30d80719-abe8-453f-9f84-fb1c3fb98c51",
   "metadata": {},
   "outputs": [],
   "source": [
    "excel_file = r'C:\\Users\\Hp\\Python\\DataAnalysisIntern\\Data Analysis\\DA  Restaurant orders\\menu_items.csv'\n",
    "df = pd.read_csv(excel_file)"
   ]
  },
  {
   "cell_type": "code",
   "execution_count": 27,
   "id": "83c33c8b-1430-4b04-8520-8e97b5e54908",
   "metadata": {},
   "outputs": [
    {
     "name": "stdout",
     "output_type": "stream",
     "text": [
      "Connected Successfully\n"
     ]
    }
   ],
   "source": [
    "try:\n",
    "    connection = mysql.connector.connect(\n",
    "        host='localhost',\n",
    "        database='mysqlinternship',\n",
    "        user='root',\n",
    "        password=''\n",
    "    )\n",
    "    print(\"Connected Successfully\")\n",
    "except Error as e:\n",
    "    print(\"Error while connecting to MySQL\", e)\n"
   ]
  },
  {
   "cell_type": "code",
   "execution_count": null,
   "id": "6eea91c1-780c-4864-9aae-db2ce9e426c8",
   "metadata": {},
   "outputs": [],
   "source": [
    "cursor = connection.cursor()\n",
    "for index, row in df.iterrows():\n",
    "    sql = \"INSERT INTO Menu_Details (MenuItem, MenuName, MenuCatagory, MenuPrice) VALUES (%s, %s, %s, %s)\"\n",
    "    values = (row['menu_item_id'], row['item_name'], row['category'], row['price'])\n",
    "    cursor.execute(sql, values)\n",
    "connection.commit()\n"
   ]
  },
  {
   "cell_type": "code",
   "execution_count": 24,
   "id": "f6119cd7-394a-41d6-8e39-2e532991d852",
   "metadata": {},
   "outputs": [
    {
     "name": "stdout",
     "output_type": "stream",
     "text": [
      "<class 'pandas.core.frame.DataFrame'>\n",
      "RangeIndex: 12234 entries, 0 to 12233\n",
      "Data columns (total 5 columns):\n",
      " #   Column           Non-Null Count  Dtype  \n",
      "---  ------           --------------  -----  \n",
      " 0   order_id         12234 non-null  int64  \n",
      " 1   order_detail_id  12234 non-null  int64  \n",
      " 2   order_date       12234 non-null  object \n",
      " 3   order_time       12234 non-null  object \n",
      " 4   item_id          12097 non-null  float64\n",
      "dtypes: float64(1), int64(2), object(2)\n",
      "memory usage: 478.0+ KB\n"
     ]
    }
   ],
   "source": [
    "excel_file = r'C:\\Users\\Hp\\Python\\DataAnalysisIntern\\Data Analysis\\DA  Restaurant orders\\order_details.csv'\n",
    "do = pd.read_csv(excel_file)\n",
    "do.info()"
   ]
  },
  {
   "cell_type": "code",
   "execution_count": 19,
   "id": "2564a028-bd5d-49af-a67d-a9af1bd31f26",
   "metadata": {},
   "outputs": [],
   "source": [
    "# order_details \n",
    "#     OrderId INT,\n",
    "#     OrderDate DATE,\n",
    "#     OrderTime TIME,\n",
    "#     ItemId INT\n",
    "cursor = connection.cursor()\n",
    "for index, row in df.iterrows():\n",
    "    sql = \"INSERT INTO order_details (OrderId, order_detail_id, OrderDate, OrderTime, ItemId) VALUES (%s, %s, %s, %s,%s)\"\n",
    "    values = (row['order_id'],row['order_detail_id'], row['order_id'], row['order_date'], row['order_time'])\n",
    "    cursor.execute(sql, values)\n",
    "connection.commit()\n"
   ]
  },
  {
   "cell_type": "code",
   "execution_count": 29,
   "id": "e2b20c85-de74-40c5-9998-88f579802b66",
   "metadata": {},
   "outputs": [
    {
     "data": {
      "text/html": [
       "<div>\n",
       "<style scoped>\n",
       "    .dataframe tbody tr th:only-of-type {\n",
       "        vertical-align: middle;\n",
       "    }\n",
       "\n",
       "    .dataframe tbody tr th {\n",
       "        vertical-align: top;\n",
       "    }\n",
       "\n",
       "    .dataframe thead th {\n",
       "        text-align: right;\n",
       "    }\n",
       "</style>\n",
       "<table border=\"1\" class=\"dataframe\">\n",
       "  <thead>\n",
       "    <tr style=\"text-align: right;\">\n",
       "      <th></th>\n",
       "      <th>order_id</th>\n",
       "      <th>order_detail_id</th>\n",
       "      <th>order_date</th>\n",
       "      <th>order_time</th>\n",
       "      <th>item_id</th>\n",
       "    </tr>\n",
       "  </thead>\n",
       "  <tbody>\n",
       "    <tr>\n",
       "      <th>0</th>\n",
       "      <td>1</td>\n",
       "      <td>1</td>\n",
       "      <td>1/1/2023</td>\n",
       "      <td>11:38:36 AM</td>\n",
       "      <td>109.0</td>\n",
       "    </tr>\n",
       "    <tr>\n",
       "      <th>1</th>\n",
       "      <td>2</td>\n",
       "      <td>2</td>\n",
       "      <td>1/1/2023</td>\n",
       "      <td>11:57:40 AM</td>\n",
       "      <td>108.0</td>\n",
       "    </tr>\n",
       "    <tr>\n",
       "      <th>2</th>\n",
       "      <td>3</td>\n",
       "      <td>2</td>\n",
       "      <td>1/1/2023</td>\n",
       "      <td>11:57:40 AM</td>\n",
       "      <td>124.0</td>\n",
       "    </tr>\n",
       "    <tr>\n",
       "      <th>3</th>\n",
       "      <td>4</td>\n",
       "      <td>2</td>\n",
       "      <td>1/1/2023</td>\n",
       "      <td>11:57:40 AM</td>\n",
       "      <td>117.0</td>\n",
       "    </tr>\n",
       "    <tr>\n",
       "      <th>4</th>\n",
       "      <td>5</td>\n",
       "      <td>2</td>\n",
       "      <td>1/1/2023</td>\n",
       "      <td>11:57:40 AM</td>\n",
       "      <td>129.0</td>\n",
       "    </tr>\n",
       "    <tr>\n",
       "      <th>...</th>\n",
       "      <td>...</td>\n",
       "      <td>...</td>\n",
       "      <td>...</td>\n",
       "      <td>...</td>\n",
       "      <td>...</td>\n",
       "    </tr>\n",
       "    <tr>\n",
       "      <th>12229</th>\n",
       "      <td>12230</td>\n",
       "      <td>5369</td>\n",
       "      <td>3/31/2023</td>\n",
       "      <td>10:05:04 PM</td>\n",
       "      <td>109.0</td>\n",
       "    </tr>\n",
       "    <tr>\n",
       "      <th>12230</th>\n",
       "      <td>12231</td>\n",
       "      <td>5369</td>\n",
       "      <td>3/31/2023</td>\n",
       "      <td>10:05:04 PM</td>\n",
       "      <td>129.0</td>\n",
       "    </tr>\n",
       "    <tr>\n",
       "      <th>12231</th>\n",
       "      <td>12232</td>\n",
       "      <td>5369</td>\n",
       "      <td>3/31/2023</td>\n",
       "      <td>10:05:04 PM</td>\n",
       "      <td>120.0</td>\n",
       "    </tr>\n",
       "    <tr>\n",
       "      <th>12232</th>\n",
       "      <td>12233</td>\n",
       "      <td>5369</td>\n",
       "      <td>3/31/2023</td>\n",
       "      <td>10:05:04 PM</td>\n",
       "      <td>122.0</td>\n",
       "    </tr>\n",
       "    <tr>\n",
       "      <th>12233</th>\n",
       "      <td>12234</td>\n",
       "      <td>5370</td>\n",
       "      <td>3/31/2023</td>\n",
       "      <td>10:15:48 PM</td>\n",
       "      <td>122.0</td>\n",
       "    </tr>\n",
       "  </tbody>\n",
       "</table>\n",
       "<p>12234 rows × 5 columns</p>\n",
       "</div>"
      ],
      "text/plain": [
       "       order_id  order_detail_id order_date   order_time  item_id\n",
       "0             1                1   1/1/2023  11:38:36 AM    109.0\n",
       "1             2                2   1/1/2023  11:57:40 AM    108.0\n",
       "2             3                2   1/1/2023  11:57:40 AM    124.0\n",
       "3             4                2   1/1/2023  11:57:40 AM    117.0\n",
       "4             5                2   1/1/2023  11:57:40 AM    129.0\n",
       "...         ...              ...        ...          ...      ...\n",
       "12229     12230             5369  3/31/2023  10:05:04 PM    109.0\n",
       "12230     12231             5369  3/31/2023  10:05:04 PM    129.0\n",
       "12231     12232             5369  3/31/2023  10:05:04 PM    120.0\n",
       "12232     12233             5369  3/31/2023  10:05:04 PM    122.0\n",
       "12233     12234             5370  3/31/2023  10:15:48 PM    122.0\n",
       "\n",
       "[12234 rows x 5 columns]"
      ]
     },
     "execution_count": 29,
     "metadata": {},
     "output_type": "execute_result"
    }
   ],
   "source": [
    "do"
   ]
  },
  {
   "cell_type": "code",
   "execution_count": 30,
   "id": "98ce119a-aa93-44f5-a988-1cc8eec84bc1",
   "metadata": {},
   "outputs": [
    {
     "name": "stdout",
     "output_type": "stream",
     "text": [
      "MySQL connection is closed\n"
     ]
    }
   ],
   "source": [
    "if connection.is_connected():\n",
    "    cursor.close()\n",
    "    connection.close()\n",
    "    print(\"MySQL connection is closed\")"
   ]
  }
 ],
 "metadata": {
  "kernelspec": {
   "display_name": "Python 3 (ipykernel)",
   "language": "python",
   "name": "python3"
  },
  "language_info": {
   "codemirror_mode": {
    "name": "ipython",
    "version": 3
   },
   "file_extension": ".py",
   "mimetype": "text/x-python",
   "name": "python",
   "nbconvert_exporter": "python",
   "pygments_lexer": "ipython3",
   "version": "3.11.5"
  }
 },
 "nbformat": 4,
 "nbformat_minor": 5
}
